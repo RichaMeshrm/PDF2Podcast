{
  "nbformat": 4,
  "nbformat_minor": 0,
  "metadata": {
    "colab": {
      "provenance": []
    },
    "kernelspec": {
      "name": "python3",
      "display_name": "Python 3"
    },
    "language_info": {
      "name": "python"
    }
  },
  "cells": [
    {
      "cell_type": "code",
      "execution_count": 1,
      "metadata": {
        "id": "16GvQcT5FIt0"
      },
      "outputs": [],
      "source": [
        "%pip install -q gradio"
      ]
    },
    {
      "cell_type": "code",
      "source": [
        "%pip install -q langchain_community"
      ],
      "metadata": {
        "colab": {
          "base_uri": "https://localhost:8080/"
        },
        "id": "52qG6HJdGvDB",
        "outputId": "e6350acd-7533-4c2f-aa7d-c40d6262c9c9"
      },
      "execution_count": 2,
      "outputs": [
        {
          "output_type": "stream",
          "name": "stdout",
          "text": [
            "\u001b[2K   \u001b[90m━━━━━━━━━━━━━━━━━━━━━━━━━━━━━━━━━━━━━━━━\u001b[0m \u001b[32m2.5/2.5 MB\u001b[0m \u001b[31m21.3 MB/s\u001b[0m eta \u001b[36m0:00:00\u001b[0m\n",
            "\u001b[2K   \u001b[90m━━━━━━━━━━━━━━━━━━━━━━━━━━━━━━━━━━━━━━━━\u001b[0m \u001b[32m1.0/1.0 MB\u001b[0m \u001b[31m32.5 MB/s\u001b[0m eta \u001b[36m0:00:00\u001b[0m\n",
            "\u001b[2K   \u001b[90m━━━━━━━━━━━━━━━━━━━━━━━━━━━━━━━━━━━━━━━━\u001b[0m \u001b[32m467.2/467.2 kB\u001b[0m \u001b[31m12.0 MB/s\u001b[0m eta \u001b[36m0:00:00\u001b[0m\n",
            "\u001b[2K   \u001b[90m━━━━━━━━━━━━━━━━━━━━━━━━━━━━━━━━━━━━━━━━\u001b[0m \u001b[32m64.7/64.7 kB\u001b[0m \u001b[31m3.5 MB/s\u001b[0m eta \u001b[36m0:00:00\u001b[0m\n",
            "\u001b[2K   \u001b[90m━━━━━━━━━━━━━━━━━━━━━━━━━━━━━━━━━━━━━━━━\u001b[0m \u001b[32m50.9/50.9 kB\u001b[0m \u001b[31m3.4 MB/s\u001b[0m eta \u001b[36m0:00:00\u001b[0m\n",
            "\u001b[?25h\u001b[31mERROR: pip's dependency resolver does not currently take into account all the packages that are installed. This behaviour is the source of the following dependency conflicts.\n",
            "google-colab 1.0.0 requires requests==2.32.4, but you have requests 2.32.5 which is incompatible.\n",
            "langchain 0.3.27 requires langchain-core<1.0.0,>=0.3.72, but you have langchain-core 1.0.0 which is incompatible.\n",
            "langchain 0.3.27 requires langchain-text-splitters<1.0.0,>=0.3.9, but you have langchain-text-splitters 1.0.0 which is incompatible.\u001b[0m\u001b[31m\n",
            "\u001b[0m"
          ]
        }
      ]
    },
    {
      "cell_type": "code",
      "source": [
        "import gradio as gr\n",
        "from langchain_community.document_loaders import PyPDFLoader\n",
        "from google import genai\n",
        "from google.genai import types\n",
        "import wave\n",
        "import os\n",
        "import getpass"
      ],
      "metadata": {
        "id": "rGvi6VMhFMm2"
      },
      "execution_count": 3,
      "outputs": []
    },
    {
      "cell_type": "code",
      "source": [
        "pip install pypdf"
      ],
      "metadata": {
        "colab": {
          "base_uri": "https://localhost:8080/"
        },
        "id": "v6itfbhzHWo3",
        "outputId": "15ea73c6-73e4-426c-f54a-63244f9c0cba"
      },
      "execution_count": 4,
      "outputs": [
        {
          "output_type": "stream",
          "name": "stdout",
          "text": [
            "Collecting pypdf\n",
            "  Downloading pypdf-6.1.3-py3-none-any.whl.metadata (7.1 kB)\n",
            "Downloading pypdf-6.1.3-py3-none-any.whl (323 kB)\n",
            "\u001b[?25l   \u001b[90m━━━━━━━━━━━━━━━━━━━━━━━━━━━━━━━━━━━━━━━━\u001b[0m \u001b[32m0.0/323.9 kB\u001b[0m \u001b[31m?\u001b[0m eta \u001b[36m-:--:--\u001b[0m\r\u001b[2K   \u001b[91m━━━━━━━━━━━━━━━━━━━━━━━━━━━\u001b[0m\u001b[91m╸\u001b[0m\u001b[90m━━━━━━━━━━━━\u001b[0m \u001b[32m225.3/323.9 kB\u001b[0m \u001b[31m7.3 MB/s\u001b[0m eta \u001b[36m0:00:01\u001b[0m\r\u001b[2K   \u001b[90m━━━━━━━━━━━━━━━━━━━━━━━━━━━━━━━━━━━━━━━━\u001b[0m \u001b[32m323.9/323.9 kB\u001b[0m \u001b[31m6.4 MB/s\u001b[0m eta \u001b[36m0:00:00\u001b[0m\n",
            "\u001b[?25hInstalling collected packages: pypdf\n",
            "Successfully installed pypdf-6.1.3\n"
          ]
        }
      ]
    },
    {
      "cell_type": "code",
      "source": [
        "# Set up the wave file to save the output:\n",
        "def wave_file(filename, pcm, channels=1, rate=24000, sample_width=2):\n",
        "   with wave.open(filename, \"wb\") as wf:\n",
        "      wf.setnchannels(channels)\n",
        "      wf.setsampwidth(sample_width)\n",
        "      wf.setframerate(rate)\n",
        "      wf.writeframes(pcm)"
      ],
      "metadata": {
        "id": "zhAXC9UkFRLn"
      },
      "execution_count": 5,
      "outputs": []
    },
    {
      "cell_type": "code",
      "source": [
        "def process_pdf_to_audio(pdf_file, api_key):\n",
        "    # Initialize the client with the API key provided in the UI\n",
        "    client = genai.Client(api_key=api_key)\n",
        "\n",
        "    # Load the PDF\n",
        "    loader = PyPDFLoader(pdf_file)\n",
        "    docs = loader.load()\n",
        "\n",
        "    # Combine all pages into a single text\n",
        "    input_text = \"\\n\".join([doc.page_content for doc in docs])\n",
        "\n",
        "    prompt = f\"\"\"\n",
        "    Your task is to extract relevant information.\n",
        "\n",
        "    From the text below, delimited by triple quotes \\\n",
        "    extract the information relevant\n",
        "    Also give output in paragraph format without any * : ```{input_text}```\n",
        "    \"\"\"\n",
        "\n",
        "    # Extract information using Gemini\n",
        "    response = client.models.generate_content(\n",
        "        model=\"gemini-2.5-flash\",\n",
        "        config=types.GenerateContentConfig(\n",
        "            system_instruction=\"you are a helpful assisant\"),\n",
        "        contents=prompt\n",
        "    )\n",
        "\n",
        "    # Get the extracted text\n",
        "    extracted_text = response.candidates[0].content.parts[0].text\n",
        "\n",
        "\n",
        "    # Use gemini-2.5-flash-preview-tts to convert the generated transcript to audio\n",
        "    response = client.models.generate_content(\n",
        "      model=\"gemini-2.5-flash-preview-tts\",\n",
        "      contents=extracted_text,\n",
        "      config=types.GenerateContentConfig(\n",
        "          response_modalities=[\"AUDIO\"],\n",
        "          speech_config=types.SpeechConfig(\n",
        "            voice_config=types.VoiceConfig(\n",
        "                prebuilt_voice_config=types.PrebuiltVoiceConfig(\n",
        "                  voice_name='Gacrux',\n",
        "                )\n",
        "            )\n",
        "          ),\n",
        "      )\n",
        "    )\n",
        "\n",
        "    audio_data = response.candidates[0].content.parts[0].inline_data.data\n",
        "    output_filename = \"output.wav\"\n",
        "    wave_file(output_filename, audio_data)\n",
        "\n",
        "    return output_filename"
      ],
      "metadata": {
        "id": "zeHGDAZjFSmU"
      },
      "execution_count": 6,
      "outputs": []
    },
    {
      "cell_type": "code",
      "source": [
        "# Create the Gradio interface\n",
        "iface = gr.Interface(\n",
        "    fn=process_pdf_to_audio,\n",
        "    inputs=[gr.File(label=\"Upload PDF File\"), gr.Textbox(label=\"Enter your Google API Key\")],\n",
        "    outputs=gr.Audio(label=\"Generated Audio\"),\n",
        "    title=\"PDF to Audio Podcast\",\n",
        "    description=\"Upload a PDF file and enter your Google API Key to generate an audio podcast based on its extracted content.\"\n",
        ")"
      ],
      "metadata": {
        "id": "R4R71t0sFVVn"
      },
      "execution_count": 7,
      "outputs": []
    },
    {
      "cell_type": "code",
      "source": [
        "# Launch the Gradio interface\n",
        "iface.launch(inline=True)"
      ],
      "metadata": {
        "id": "Mh9I4EiYFXDb"
      },
      "execution_count": 11,
      "outputs": []
    },
    {
      "cell_type": "code",
      "source": [
        "iface.close()"
      ],
      "metadata": {
        "id": "CQrlbVRdFZMY"
      },
      "execution_count": 12,
      "outputs": []
    }
  ]
}